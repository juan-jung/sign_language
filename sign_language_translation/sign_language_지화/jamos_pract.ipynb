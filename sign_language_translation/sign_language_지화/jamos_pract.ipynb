{
 "cells": [
  {
   "cell_type": "code",
   "execution_count": 1,
   "id": "c1cff458",
   "metadata": {},
   "outputs": [
    {
     "name": "stderr",
     "output_type": "stream",
     "text": [
      "Cloning into 'hangul-utils'...\n"
     ]
    }
   ],
   "source": [
    "!git clone https://github.com/kaniblu/hangul-utils"
   ]
  },
  {
   "cell_type": "code",
   "execution_count": 2,
   "id": "6300a12c",
   "metadata": {},
   "outputs": [],
   "source": [
    "from unicode import join_jamos"
   ]
  },
  {
   "cell_type": "code",
   "execution_count": 26,
   "id": "e0342854",
   "metadata": {},
   "outputs": [],
   "source": [
    "sent = ['ㄱ','ㅏ','ㄴ','ㄴ']"
   ]
  },
  {
   "cell_type": "code",
   "execution_count": 27,
   "id": "7557f6cb",
   "metadata": {},
   "outputs": [
    {
     "data": {
      "text/plain": [
       "['ㄱ', 'ㅏ', 'ㄴ', 'ㄴ']"
      ]
     },
     "execution_count": 27,
     "metadata": {},
     "output_type": "execute_result"
    }
   ],
   "source": [
    "sent"
   ]
  },
  {
   "cell_type": "code",
   "execution_count": 28,
   "id": "328ecc8e",
   "metadata": {},
   "outputs": [],
   "source": [
    "s = \" \".join(sent)"
   ]
  },
  {
   "cell_type": "code",
   "execution_count": 29,
   "id": "970bdbb4",
   "metadata": {},
   "outputs": [
    {
     "data": {
      "text/plain": [
       "'ㄱ ㅏ ㄴ ㄴ'"
      ]
     },
     "execution_count": 29,
     "metadata": {},
     "output_type": "execute_result"
    }
   ],
   "source": [
    "s"
   ]
  },
  {
   "cell_type": "code",
   "execution_count": 30,
   "id": "6b25838c",
   "metadata": {},
   "outputs": [
    {
     "data": {
      "text/plain": [
       "'ㄱㅏㄴㄴ'"
      ]
     },
     "execution_count": 30,
     "metadata": {},
     "output_type": "execute_result"
    }
   ],
   "source": [
    "s.replace(\" \",\"\")\n"
   ]
  },
  {
   "cell_type": "code",
   "execution_count": 31,
   "id": "01fe5435",
   "metadata": {},
   "outputs": [
    {
     "data": {
      "text/plain": [
       "'ㄱ ㅏ ㄴ ㄴ'"
      ]
     },
     "execution_count": 31,
     "metadata": {},
     "output_type": "execute_result"
    }
   ],
   "source": [
    "s"
   ]
  },
  {
   "cell_type": "code",
   "execution_count": 32,
   "id": "36e8870f",
   "metadata": {},
   "outputs": [
    {
     "data": {
      "text/plain": [
       "'간ㄴ'"
      ]
     },
     "execution_count": 32,
     "metadata": {},
     "output_type": "execute_result"
    }
   ],
   "source": [
    "join_jamos(\" \".join(sent).replace(\" \",\"\"))"
   ]
  },
  {
   "cell_type": "code",
   "execution_count": null,
   "id": "fb02344c",
   "metadata": {},
   "outputs": [],
   "source": []
  }
 ],
 "metadata": {
  "kernelspec": {
   "display_name": "Python 3 (ipykernel)",
   "language": "python",
   "name": "python3"
  },
  "language_info": {
   "codemirror_mode": {
    "name": "ipython",
    "version": 3
   },
   "file_extension": ".py",
   "mimetype": "text/x-python",
   "name": "python",
   "nbconvert_exporter": "python",
   "pygments_lexer": "ipython3",
   "version": "3.7.13"
  }
 },
 "nbformat": 4,
 "nbformat_minor": 5
}
